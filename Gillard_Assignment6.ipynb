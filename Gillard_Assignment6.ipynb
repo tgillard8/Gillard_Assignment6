{
 "cells": [
  {
   "cell_type": "code",
   "execution_count": 6,
   "id": "e7e97b57",
   "metadata": {},
   "outputs": [],
   "source": [
    "#Descriptive Statistics\n",
    "\n",
    "def descriptive_stats(lower, upper, step):\n",
    "    low = int(input(\"Input Lower Bound: \"))\n",
    "    upper = int(input(\"Input Upper Bound: \"))\n",
    "    step = int(input(\"Input Step Counter: \"))\n",
    "    \n",
    "    total = list(range(low, upper, step))\n",
    "    \n",
    "    mean = sum(total) / len(total)\n",
    "    \n",
    "    sort = sorted(total)\n",
    "    middle = len(sort)\n",
    "    if middle % 2 == 0: #even\n",
    "        med1 = total[middle//2]\n",
    "        med2 = total[middle//2 - 1]\n",
    "        median = (med1 + med2)/2\n",
    "    else:\n",
    "        median = total[middle//2]\n",
    "    print(\"Median is: \" + str(median))"
   ]
  },
  {
   "cell_type": "code",
   "execution_count": null,
   "id": "d3860841",
   "metadata": {},
   "outputs": [],
   "source": []
  }
 ],
 "metadata": {
  "kernelspec": {
   "display_name": "Python 3 (ipykernel)",
   "language": "python",
   "name": "python3"
  },
  "language_info": {
   "codemirror_mode": {
    "name": "ipython",
    "version": 3
   },
   "file_extension": ".py",
   "mimetype": "text/x-python",
   "name": "python",
   "nbconvert_exporter": "python",
   "pygments_lexer": "ipython3",
   "version": "3.11.5"
  }
 },
 "nbformat": 4,
 "nbformat_minor": 5
}
