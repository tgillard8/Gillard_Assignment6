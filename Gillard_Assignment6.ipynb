{
 "cells": [
  {
   "cell_type": "code",
   "execution_count": 5,
   "id": "d3860841",
   "metadata": {},
   "outputs": [
    {
     "name": "stdout",
     "output_type": "stream",
     "text": [
      "Input Lower Bound: 7\n",
      "Input Upper Bound: 15\n",
      "Input Step Counter: 2\n",
      "Median is: 10.0\n",
      "Mean is: 10.0\n",
      "Range is: 6\n"
     ]
    }
   ],
   "source": [
    "def descriptive_stats():\n",
    "    #user inputs\n",
    "    lower = int(input(\"Input Lower Bound: \"))\n",
    "    upper = int(input(\"Input Upper Bound: \"))\n",
    "    step = int(input(\"Input Step Counter: \"))\n",
    "    \n",
    "    total = list(range(lower, upper, step))\n",
    "    \n",
    "    #mean sum divided by length of total\n",
    "    mean = sum(total) / len(total)\n",
    "    \n",
    "    \n",
    "    #median\n",
    "    sort = sorted(total)\n",
    "    middle = len(sort)\n",
    "    if middle % 2 == 0: #even\n",
    "        med1 = sort[middle//2]\n",
    "        med2 = sort[middle//2 - 1]\n",
    "        median = (med1 + med2)/2\n",
    "    else: #if odd\n",
    "        median = sort[middle//2]\n",
    "    print(\"Median is: \" + str(median))\n",
    "    print(\"Mean is: \" + str(mean))\n",
    "    \n",
    "    #range\n",
    "    therange = max(total) - min(total)\n",
    "    \n",
    "    print(\"Range is: \" + str(therange)) == max(total) - min(total)\n",
    "\n",
    "\n",
    "#run program\n",
    "descriptive_stats()\n"
   ]
  },
  {
   "cell_type": "code",
   "execution_count": 24,
   "id": "bdf91487",
   "metadata": {},
   "outputs": [
    {
     "name": "stdout",
     "output_type": "stream",
     "text": [
      "9II@\u001alOcG\u001aIH\u001aQIOL\u001amE@NALm\u001b\n"
     ]
    }
   ],
   "source": [
    "def decode(input_string):\n",
    "    #make list of numbers from input string\n",
    "    numbers = input_string.split()\n",
    "    \n",
    "    #initailize empty string\n",
    "    decoded = ''\n",
    "    \n",
    "    #loop through each number in the list\n",
    "    for number in numbers:\n",
    "        num = int(number)  #convert the string to integer\n",
    "        \n",
    "        # decode message, use absolute value of negative numbers and whole numbers\n",
    "        decoded += chr(abs(num))\n",
    "        \n",
    "    return decoded\n",
    "\n",
    "#uncoded message string is below\n",
    "input_string = \"57 73 73 64 26 -108 79 -99 71 26 73 72 26 81 73 79 76 26 -109 69 64 78 65 76 -109 27\"\n",
    "print(decode(input_string))"
   ]
  },
  {
   "cell_type": "code",
   "execution_count": null,
   "id": "d774ac4b",
   "metadata": {},
   "outputs": [],
   "source": []
  }
 ],
 "metadata": {
  "kernelspec": {
   "display_name": "Python 3 (ipykernel)",
   "language": "python",
   "name": "python3"
  },
  "language_info": {
   "codemirror_mode": {
    "name": "ipython",
    "version": 3
   },
   "file_extension": ".py",
   "mimetype": "text/x-python",
   "name": "python",
   "nbconvert_exporter": "python",
   "pygments_lexer": "ipython3",
   "version": "3.11.5"
  }
 },
 "nbformat": 4,
 "nbformat_minor": 5
}
